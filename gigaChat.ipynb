{
 "cells": [
  {
   "cell_type": "code",
   "id": "initial_id",
   "metadata": {
    "collapsed": true,
    "ExecuteTime": {
     "end_time": "2024-05-30T11:20:05.580439Z",
     "start_time": "2024-05-30T11:20:05.571113Z"
    }
   },
   "source": [
    "# requirements\n",
    "# Инициализация\n",
    "from langchain.chat_models.gigachat import GigaChat\n",
    "from langchain.schema import HumanMessage, SystemMessage\n",
    "\n",
    "# устанавливаем локаль\n",
    "import locale\n",
    "locale.setlocale(locale.LC_ALL, ('ru', 'utf-8'))\n",
    "print(locale.getlocale())\n",
    "\n",
    "# Загрузка документов\n",
    "from langchain_community.document_loaders import Docx2txtLoader\n",
    "from langchain.text_splitter import (\n",
    "    RecursiveCharacterTextSplitter\n",
    ")\n",
    "\n",
    "# Эмбеддинги\n",
    "from chromadb.config import Settings\n",
    "from langchain_community.vectorstores import Chroma\n",
    "from langchain_community.embeddings import GigaChatEmbeddings\n",
    "\n",
    "# QnA цепочка\n",
    "from langchain.chains import RetrievalQA\n",
    "from langchain.prompts.chat import (\n",
    "    ChatPromptTemplate,\n",
    "    MessagesPlaceholder,\n",
    ")"
   ],
   "outputs": [
    {
     "name": "stdout",
     "output_type": "stream",
     "text": [
      "('ru_RU', 'UTF-8')\n"
     ]
    }
   ],
   "execution_count": 25
  },
  {
   "metadata": {
    "ExecuteTime": {
     "end_time": "2024-05-30T11:20:47.379Z",
     "start_time": "2024-05-30T11:20:47.368096Z"
    }
   },
   "cell_type": "code",
   "source": [
    "import os\n",
    "from dotenv import load_dotenv\n",
    "load_dotenv()\n",
    "token = os.getenv(\"token\")\n",
    "data_file = \"./data/bzd.docx\""
   ],
   "id": "32aee049f4647b4",
   "outputs": [],
   "execution_count": 26
  },
  {
   "metadata": {
    "ExecuteTime": {
     "end_time": "2024-05-30T11:21:48.666877Z",
     "start_time": "2024-05-30T11:21:48.660881Z"
    }
   },
   "cell_type": "code",
   "source": [
    "llm = GigaChat(\n",
    "    credentials=token,\n",
    "    scope=\"GIGACHAT_API_PERS\",\n",
    "    model=\"GigaChat-Pro\",\n",
    "    verify_ssl_certs=False)"
   ],
   "id": "7be097ab7a59979c",
   "outputs": [],
   "execution_count": 27
  },
  {
   "metadata": {
    "ExecuteTime": {
     "end_time": "2024-05-30T11:22:39.683608Z",
     "start_time": "2024-05-30T11:22:16.264436Z"
    }
   },
   "cell_type": "code",
   "source": [
    "messages = [\n",
    "    SystemMessage(\n",
    "        content=\"Ты эмпатичный бот-психолог, который помогает пользователю решить его проблемы.\"\n",
    "    )\n",
    "]\n",
    "\n",
    "user_input = input(\"User: \")\n",
    "messages.append(HumanMessage(content=user_input))\n",
    "res = llm(messages)\n",
    "messages.append(res)\n",
    "# Ответ сервиса\n",
    "print(\"Bot: \", res.content)"
   ],
   "id": "82e4463aac5ab077",
   "outputs": [
    {
     "name": "stdout",
     "output_type": "stream",
     "text": [
      "Bot:  Среди знаменитостей, родившихся в год распада СССР (1991), есть следующие:\n",
      "\n",
      "— Гоша Куценко — российский актёр, режиссёр, сценарист и продюсер;\n",
      "— Скарлетт Йоханссон — американская актриса и певица;\n",
      "— Эванджелин Лилли — канадская актриса и модель;\n",
      "— Криштиану Роналду — португальский футболист;\n",
      "— Аманда Сейфрид — американская актриса и певица;\n",
      "— Майли Сайрус — американская актриса и певица;\n",
      "— Лиам Хемсворт — австралийский актёр;\n",
      "— Тейлор Лотнер — американский актёр и музыкант;\n",
      "— Селена Гомес — американская актриса, певица и дизайнер;\n",
      "— Николас Холт — британский актёр.\n"
     ]
    }
   ],
   "execution_count": 28
  },
  {
   "metadata": {
    "ExecuteTime": {
     "end_time": "2024-05-30T11:25:11.814460Z",
     "start_time": "2024-05-30T11:25:10.938106Z"
    }
   },
   "cell_type": "code",
   "source": [
    "loader = Docx2txtLoader(data_file)\n",
    "documents = loader.load()\n",
    "text_splitter = RecursiveCharacterTextSplitter(\n",
    "    chunk_size=1000,\n",
    "    chunk_overlap=200,\n",
    ")\n",
    "documents = text_splitter.split_documents(documents)\n",
    "print(f\"Total documents: {len(documents)}\")"
   ],
   "id": "69c8f717cd8c10ab",
   "outputs": [
    {
     "name": "stdout",
     "output_type": "stream",
     "text": [
      "Total documents: 446\n"
     ]
    }
   ],
   "execution_count": 29
  },
  {
   "metadata": {
    "ExecuteTime": {
     "end_time": "2024-05-30T11:27:10.225505Z",
     "start_time": "2024-05-30T11:27:02.592174Z"
    }
   },
   "cell_type": "code",
   "source": [
    "embeddings = GigaChatEmbeddings(\n",
    "    one_by_one_mode=True,\n",
    "    _debug_delay=0.005,\n",
    "    credentials=token,\n",
    "    scope=\"GIGACHAT_API_PERS\",\n",
    "    verify_ssl_certs=False\n",
    ")\n",
    "\n",
    "db = Chroma.from_documents(\n",
    "    documents,\n",
    "    embeddings,\n",
    "    client_settings=Settings(anonymized_telemetry=True),\n",
    ")\n",
    "\n",
    "retriever = db.as_retriever(k=10)"
   ],
   "id": "6a5cb977238b3497",
   "outputs": [],
   "execution_count": 30
  },
  {
   "metadata": {
    "ExecuteTime": {
     "end_time": "2024-05-30T11:28:50.208415Z",
     "start_time": "2024-05-30T11:28:47.266840Z"
    }
   },
   "cell_type": "code",
   "source": [
    "question = \"Устойчивость работы хозяйственного объекта определяется по\"\n",
    "\n",
    "qa_chain = RetrievalQA.from_chain_type(llm, retriever=retriever)\n",
    "print(qa_chain({\"query\": question}))"
   ],
   "id": "d3bb3c569c88d87d",
   "outputs": [
    {
     "name": "stdout",
     "output_type": "stream",
     "text": [
      "{'query': 'Устойчивость работы хозяйственного объекта определяется по', 'result': 'Из представленного текста нельзя однозначно определить, как именно определяется устойчивость работы хозяйственного объекта.'}\n"
     ]
    }
   ],
   "execution_count": 31
  },
  {
   "metadata": {
    "ExecuteTime": {
     "end_time": "2024-05-30T11:29:44.264999Z",
     "start_time": "2024-05-30T11:29:41.958698Z"
    }
   },
   "cell_type": "code",
   "source": [
    "question = \"Аварией считается утечка нефти в обьеме\"\n",
    "\n",
    "qa_chain = RetrievalQA.from_chain_type(llm, retriever=retriever)\n",
    "print(qa_chain({\"query\": question}))"
   ],
   "id": "65708525a17f98e9",
   "outputs": [
    {
     "name": "stdout",
     "output_type": "stream",
     "text": [
      "{'query': 'Аварией считается утечка нефти в обьеме', 'result': 'Аварией считается утечка нефти в объеме 10 м3 и более.'}\n"
     ]
    }
   ],
   "execution_count": 32
  },
  {
   "metadata": {
    "ExecuteTime": {
     "end_time": "2024-05-30T11:29:55.645424Z",
     "start_time": "2024-05-30T11:29:50.374127Z"
    }
   },
   "cell_type": "code",
   "source": [
    "question = \"Пожарная техника в зависимости от способа пожаротушения подразделяется на\"\n",
    "\n",
    "qa_chain = RetrievalQA.from_chain_type(llm, retriever=retriever)\n",
    "print(qa_chain({\"query\": question}))"
   ],
   "id": "ba3e46de48880a9f",
   "outputs": [
    {
     "name": "stdout",
     "output_type": "stream",
     "text": [
      "{'query': 'Пожарная техника в зависимости от способа пожаротушения подразделяется на', 'result': 'Пожарная техника в зависимости от способа пожаротушения подразделяется на первичные средства (огнетушители и пожарные краны), передвижные средства (различные пожарные автомобили) и стационарные средства (специальные установки с запасом огнетушащих веществ, лафетные стволы и другие).'}\n"
     ]
    }
   ],
   "execution_count": 33
  },
  {
   "metadata": {
    "ExecuteTime": {
     "end_time": "2024-05-30T11:30:41.371255Z",
     "start_time": "2024-05-30T11:30:36.275781Z"
    }
   },
   "cell_type": "code",
   "source": [
    "question = \"Сколько классов опасных производственных объектов существует\"\n",
    "\n",
    "qa_chain = RetrievalQA.from_chain_type(llm, retriever=db.as_retriever())\n",
    "print(qa_chain({\"query\": question}))"
   ],
   "id": "b1a7d6e2084eaea3",
   "outputs": [
    {
     "name": "stdout",
     "output_type": "stream",
     "text": [
      "{'query': 'Сколько классов опасных производственных объектов существует', 'result': 'Согласно Федеральному закону №116-ФЗ \"О промышленной безопасности опасных производственных объектов\", существует четыре класса опасных производственных объектов. Это классификация основывается на степени отклонения фактических уровней негативных факторов от гигиенических нормативов условий труда.'}\n"
     ]
    }
   ],
   "execution_count": 34
  },
  {
   "metadata": {
    "ExecuteTime": {
     "end_time": "2024-05-30T11:31:14.507478Z",
     "start_time": "2024-05-30T11:30:59.778707Z"
    }
   },
   "cell_type": "code",
   "source": [
    "question = \"Кто такой джастин бибер?\"\n",
    "\n",
    "qa_chain = RetrievalQA.from_chain_type(llm, retriever=retriever)\n",
    "print(qa_chain({ \"query\": question}))"
   ],
   "id": "5eff3f33420b7987",
   "outputs": [
    {
     "name": "stdout",
     "output_type": "stream",
     "text": [
      "{'query': 'Кто такой джастин бибер?', 'result': 'Джастин Бибер - это канадский певец, автор песен и актер. Он стал популярным в возрасте 13 лет благодаря видеороликам на YouTube, где он исполнял песни собственного сочинения. Впоследствии его обнаружил менеджер Скутер Браун и помог ему подписать контракт с Island Records в 2008 году.\\n\\nМузыкальная карьера Джастина Бибера началась с выпуска сингла \"One Time\", который достиг топ-10 в Канаде и США. После этого последовал выпуск нескольких успешных альбомов, включая \"My World\", \"My World 2.0\", \"Under the Mistletoe\", \"Believe\" и \"Purpose\". Его музыка сочетает в себе элементы поп-музыки, R&B и хип-хопа.\\n\\nПомимо музыкальной карьеры, Джастин Бибер также активно участвует в общественной жизни. Он занимается благотворительностью, поддерживая различные организации и фонды. Кроме того, он снялся в нескольких фильмах, включая \"Никогда не говори никогда\" (документальный фильм о его концертном туре) и \"Путеводная звезда\" (рождественская комедия).'}\n"
     ]
    }
   ],
   "execution_count": 35
  },
  {
   "metadata": {
    "ExecuteTime": {
     "end_time": "2024-05-30T11:32:16.099230Z",
     "start_time": "2024-05-30T11:32:13.551791Z"
    }
   },
   "cell_type": "code",
   "source": [
    "from langchain.chains.combine_documents import create_stuff_documents_chain\n",
    "sys_templ = '''Ответь на вопрос пользователя. \\\n",
    "Используй при этом только информацию из контекста. Если в контексте нет \\\n",
    "информации для ответа, скажи \"Я не знаю\".\n",
    "<context>\n",
    "{context}\n",
    "</context>\n",
    "'''\n",
    "qa_prompt = ChatPromptTemplate.from_messages(\n",
    "    [\n",
    "        (\n",
    "            \"system\",\n",
    "            sys_templ,\n",
    "        ),\n",
    "        MessagesPlaceholder(variable_name=\"messages\"),\n",
    "    ]\n",
    ")\n",
    "combine_docs_chain = create_stuff_documents_chain(llm, qa_prompt)\n",
    "\n",
    "from langchain_core.messages import HumanMessage\n",
    "\n",
    "# question = \"Кто такой джастин бибер?\"\n",
    "question = \"Устойчивость работы хозяйственного объекта определяется по\"\n",
    "question = \"Сколько классов опасных производственных объектов существует\"\n",
    "\n",
    "# Поиск по базе данных\n",
    "docs = retriever.invoke(question)\n",
    "\n",
    "result = combine_docs_chain.invoke(\n",
    "    {\n",
    "        \"context\": docs,\n",
    "        \"messages\": [\n",
    "            HumanMessage(content=question)\n",
    "        ],\n",
    "    }\n",
    ")\n",
    "\n",
    "print(result)"
   ],
   "id": "16c645073fbfde91",
   "outputs": [
    {
     "name": "stdout",
     "output_type": "stream",
     "text": [
      "Согласно тексту, опасные производственные объекты подразделяются на четыре класса.\n"
     ]
    }
   ],
   "execution_count": 38
  },
  {
   "metadata": {},
   "cell_type": "code",
   "source": "",
   "id": "31ead9fd849cde4b",
   "outputs": [],
   "execution_count": null
  }
 ],
 "metadata": {
  "kernelspec": {
   "display_name": "Python 3",
   "language": "python",
   "name": "python3"
  },
  "language_info": {
   "codemirror_mode": {
    "name": "ipython",
    "version": 2
   },
   "file_extension": ".py",
   "mimetype": "text/x-python",
   "name": "python",
   "nbconvert_exporter": "python",
   "pygments_lexer": "ipython2",
   "version": "2.7.6"
  }
 },
 "nbformat": 4,
 "nbformat_minor": 5
}
