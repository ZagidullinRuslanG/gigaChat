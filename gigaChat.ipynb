{
 "cells": [
  {
   "cell_type": "code",
   "id": "initial_id",
   "metadata": {
    "collapsed": true
   },
   "source": [
    "# requirements\n",
    "# Инициализация\n",
    "from langchain.chat_models.gigachat import GigaChat\n",
    "from langchain.schema import HumanMessage, SystemMessage\n",
    "\n",
    "# устанавливаем локаль\n",
    "import locale\n",
    "locale.setlocale(locale.LC_ALL, ('ru', 'utf-8'))\n",
    "print(locale.getlocale())\n",
    "\n",
    "# Загрузка документов\n",
    "from langchain_community.document_loaders import Docx2txtLoader\n",
    "from langchain.text_splitter import (\n",
    "    RecursiveCharacterTextSplitter\n",
    ")\n",
    "\n",
    "# Эмбеддинги\n",
    "from chromadb.config import Settings\n",
    "from langchain_community.vectorstores import Chroma\n",
    "from langchain_community.embeddings import GigaChatEmbeddings\n",
    "\n",
    "# QnA цепочка\n",
    "from langchain.chains import RetrievalQA\n",
    "from langchain.prompts.chat import (\n",
    "    ChatPromptTemplate,\n",
    "    MessagesPlaceholder,\n",
    ")"
   ],
   "outputs": [],
   "execution_count": null
  },
  {
   "metadata": {},
   "cell_type": "code",
   "source": [
    "import os\n",
    "from dotenv import load_dotenv\n",
    "load_dotenv()\n",
    "token = os.getenv(\"token\")\n",
    "data_file = \"./data/bzd.docx\""
   ],
   "id": "32aee049f4647b4",
   "outputs": [],
   "execution_count": null
  },
  {
   "metadata": {},
   "cell_type": "code",
   "source": [
    "llm = GigaChat(\n",
    "    credentials=token,\n",
    "    scope=\"GIGACHAT_API_PERS\",\n",
    "    model=\"GigaChat-Pro\",\n",
    "    verify_ssl_certs=False)"
   ],
   "id": "7be097ab7a59979c",
   "outputs": [],
   "execution_count": null
  },
  {
   "metadata": {},
   "cell_type": "code",
   "source": [
    "messages = [\n",
    "    SystemMessage(\n",
    "        content=\"Ты эмпатичный бот-психолог, который помогает пользователю решить его проблемы.\"\n",
    "    )\n",
    "]\n",
    "\n",
    "user_input = input(\"User: \")\n",
    "messages.append(HumanMessage(content=user_input))\n",
    "res = llm(messages)\n",
    "messages.append(res)\n",
    "# Ответ сервиса\n",
    "print(\"Bot: \", res.content)"
   ],
   "id": "82e4463aac5ab077",
   "outputs": [],
   "execution_count": null
  },
  {
   "metadata": {},
   "cell_type": "code",
   "source": [
    "loader = Docx2txtLoader(data_file)\n",
    "documents = loader.load()\n",
    "text_splitter = RecursiveCharacterTextSplitter(\n",
    "    chunk_size=1000,\n",
    "    chunk_overlap=200,\n",
    ")\n",
    "documents = text_splitter.split_documents(documents)\n",
    "print(f\"Total documents: {len(documents)}\")"
   ],
   "id": "69c8f717cd8c10ab",
   "outputs": [],
   "execution_count": null
  },
  {
   "metadata": {},
   "cell_type": "code",
   "source": [
    "embeddings = GigaChatEmbeddings(\n",
    "    one_by_one_mode=True,\n",
    "    _debug_delay=0.005,\n",
    "    credentials=token,\n",
    "    scope=\"GIGACHAT_API_PERS\",\n",
    "    verify_ssl_certs=False\n",
    ")\n",
    "\n",
    "db = Chroma.from_documents(\n",
    "    documents,\n",
    "    embeddings,\n",
    "    client_settings=Settings(anonymized_telemetry=True),\n",
    ")\n",
    "\n",
    "retriever = db.as_retriever(k=4)"
   ],
   "id": "6a5cb977238b3497",
   "outputs": [],
   "execution_count": null
  },
  {
   "metadata": {},
   "cell_type": "code",
   "source": [
    "question = \"Устойчивость работы хозяйственного объекта определяется по\"\n",
    "\n",
    "qa_chain = RetrievalQA.from_chain_type(llm, retriever=retriever)\n",
    "print(qa_chain({\"query\": question}))"
   ],
   "id": "d3bb3c569c88d87d",
   "outputs": [],
   "execution_count": null
  },
  {
   "metadata": {},
   "cell_type": "code",
   "source": [
    "question = \"Аварией считается утечка нефти в щбьеме\"\n",
    "\n",
    "qa_chain = RetrievalQA.from_chain_type(llm, retriever=retriever)\n",
    "print(qa_chain({\"query\": question}))"
   ],
   "id": "65708525a17f98e9",
   "outputs": [],
   "execution_count": null
  },
  {
   "metadata": {},
   "cell_type": "code",
   "source": [
    "question = \"Пожарная техника в зависимости от способа пожаротушения подразделяется на\"\n",
    "\n",
    "qa_chain = RetrievalQA.from_chain_type(llm, retriever=retriever)\n",
    "print(qa_chain({\"query\": question}))"
   ],
   "id": "ba3e46de48880a9f",
   "outputs": [],
   "execution_count": null
  },
  {
   "metadata": {},
   "cell_type": "code",
   "source": [
    "question = \"Сколько классов опасных производственных объектов существует\"\n",
    "\n",
    "qa_chain = RetrievalQA.from_chain_type(llm, retriever=db.as_retriever())\n",
    "print(qa_chain({\"query\": question}))"
   ],
   "id": "b1a7d6e2084eaea3",
   "outputs": [],
   "execution_count": null
  },
  {
   "metadata": {},
   "cell_type": "code",
   "source": [
    "question = \"Кто такой джастин бибер?\"\n",
    "\n",
    "qa_chain = RetrievalQA.from_chain_type(llm, retriever=retriever)\n",
    "print(qa_chain({ \"query\": question}))"
   ],
   "id": "5eff3f33420b7987",
   "outputs": [],
   "execution_count": null
  },
  {
   "metadata": {},
   "cell_type": "code",
   "source": [
    "from langchain.chains.combine_documents import create_stuff_documents_chain\n",
    "sys_templ = '''Ответь на вопрос пользователя. \\\n",
    "Используй при этом только информацию из контекста. Если в контексте нет \\\n",
    "информации для ответа, скажи \"Я не знаю\".\n",
    "<context>\n",
    "{context}\n",
    "</context>\n",
    "'''\n",
    "qa_prompt = ChatPromptTemplate.from_messages(\n",
    "    [\n",
    "        (\n",
    "            \"system\",\n",
    "            sys_templ,\n",
    "        ),\n",
    "        MessagesPlaceholder(variable_name=\"messages\"),\n",
    "    ]\n",
    ")\n",
    "combine_docs_chain = create_stuff_documents_chain(llm, qa_prompt)\n",
    "\n",
    "from langchain_core.messages import HumanMessage\n",
    "\n",
    "question = \"Кто такой джастин бибер?\"\n",
    "question1 = \"Устойчивость работы хозяйственного объекта определяется по\"\n",
    "\n",
    "# Поиск по базе данных\n",
    "docs = retriever.invoke(question1)\n",
    "\n",
    "result = combine_docs_chain.invoke(\n",
    "    {\n",
    "        \"context\": docs,\n",
    "        \"messages\": [\n",
    "            HumanMessage(content=question)\n",
    "        ],\n",
    "    }\n",
    ")\n",
    "\n",
    "print(result)"
   ],
   "id": "16c645073fbfde91",
   "outputs": [],
   "execution_count": null
  },
  {
   "metadata": {},
   "cell_type": "code",
   "source": "",
   "id": "31ead9fd849cde4b",
   "outputs": [],
   "execution_count": null
  }
 ],
 "metadata": {
  "kernelspec": {
   "display_name": "Python 3",
   "language": "python",
   "name": "python3"
  },
  "language_info": {
   "codemirror_mode": {
    "name": "ipython",
    "version": 2
   },
   "file_extension": ".py",
   "mimetype": "text/x-python",
   "name": "python",
   "nbconvert_exporter": "python",
   "pygments_lexer": "ipython2",
   "version": "2.7.6"
  }
 },
 "nbformat": 4,
 "nbformat_minor": 5
}
